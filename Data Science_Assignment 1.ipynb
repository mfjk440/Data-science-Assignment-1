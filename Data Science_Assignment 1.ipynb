{
 "cells": [
  {
   "cell_type": "code",
   "execution_count": 1,
   "id": "09678c4c",
   "metadata": {},
   "outputs": [
    {
     "name": "stdout",
     "output_type": "stream",
     "text": [
      "Twinkle, twinkle, little star,\n",
      " \t How i wonder what you are! \n",
      "\t\t Up above the world so high,\n",
      "\t\t Like a diamond in the sky, \n",
      " Twinkle, twinkle, little star,\n",
      "\t How i wonder what you are!\n"
     ]
    }
   ],
   "source": [
    "\"\"\"1-Write a Python Program to print the following string in a specific format (see the output)\n",
    "        Twinkle, twinkle, little star,\n",
    "                 How i wonder what you are!\n",
    "                       Up above the world so high,\n",
    "                       Like a diamond in the sky,\n",
    "        Twinkle, twinkle, little star,\n",
    "                 How i wonder what you are!\"\"\"\n",
    "#Code\n",
    "print(\"Twinkle, twinkle, little star,\\n \\t How i wonder what you are! \\n\\t\\t Up above the world so high,\\n\\t\\t Like a diamond in the sky, \\n Twinkle, twinkle, little star,\\n\\t How i wonder what you are!\")"
   ]
  },
  {
   "cell_type": "code",
   "execution_count": 2,
   "id": "445e9284",
   "metadata": {},
   "outputs": [
    {
     "name": "stdout",
     "output_type": "stream",
     "text": [
      "Python Version\n",
      "3.8.8 (default, Apr 13 2021, 15:08:03) [MSC v.1916 64 bit (AMD64)]\n",
      "Version Info\n",
      "sys.version_info(major=3, minor=8, micro=8, releaselevel='final', serial=0)\n"
     ]
    }
   ],
   "source": [
    "\"\"\"2-Write a Python Program to get the Python version you are using\"\"\"\n",
    "#Code\n",
    "import sys;\n",
    "print (\"Python Version\");\n",
    "print (sys.version);\n",
    "print (\"Version Info\");\n",
    "print (sys.version_info);"
   ]
  },
  {
   "cell_type": "code",
   "execution_count": 3,
   "id": "aab616d5",
   "metadata": {},
   "outputs": [
    {
     "name": "stdout",
     "output_type": "stream",
     "text": [
      "Current date and time : \n",
      "2021-12-30 12:49:56\n"
     ]
    }
   ],
   "source": [
    "\"\"\"3-Write a Python Program to display the current date and time\"\"\"\n",
    "#Code\n",
    "import datetime;\n",
    "now = datetime.datetime.now();\n",
    "print (\"Current date and time : \");\n",
    "print (now.strftime(\"%Y-%m-%d %H:%M:%S\"));"
   ]
  },
  {
   "cell_type": "code",
   "execution_count": 4,
   "id": "e91bb3bf",
   "metadata": {},
   "outputs": [
    {
     "name": "stdout",
     "output_type": "stream",
     "text": [
      "Input the radius of the circle: 5\n",
      "The Area of the Circle is:\n",
      "78.53981633974483\n"
     ]
    }
   ],
   "source": [
    "\"\"\"4-Write a Python Program which accepts the radius of the circle from the user and compute area\"\"\"\n",
    "#Code\n",
    "from math import pi;\n",
    "r=float (input (\"Input the radius of the circle: \"));\n",
    "Area=(pi*r**2);\n",
    "print (\"The Area of the Circle is:\");\n",
    "print (Area);"
   ]
  },
  {
   "cell_type": "code",
   "execution_count": 6,
   "id": "e1fe23bd",
   "metadata": {},
   "outputs": [
    {
     "name": "stdout",
     "output_type": "stream",
     "text": [
      "Enter Your First Name:Faisal\n",
      "Enter Your Last Name:Muhammad\n",
      "Muhammad Faisal\n"
     ]
    }
   ],
   "source": [
    "\"\"\"5-Write a Python Program which accepts the user's first and last name and print them in reverse order with a space between them\"\"\"\n",
    "#Code\n",
    "First_Name=input (\"Enter Your First Name:\");\n",
    "Last_Name=input (\"Enter Your Last Name:\");\n",
    "print(Last_Name+\" \"+First_Name);"
   ]
  },
  {
   "cell_type": "code",
   "execution_count": 7,
   "id": "3e70900a",
   "metadata": {},
   "outputs": [
    {
     "name": "stdout",
     "output_type": "stream",
     "text": [
      "Enter 1st Numer:45\n",
      "Enter 2nd Numer:22\n",
      "67\n"
     ]
    }
   ],
   "source": [
    "\"\"\"6-Write a Python Program which takes two inputs frpm user and print them addidtion\"\"\"\n",
    "#Code\n",
    "First_Number=input(\"Enter 1st Numer:\");\n",
    "Second_Number=input(\"Enter 2nd Numer:\");\n",
    "print (int(First_Number)+int(Second_Number));"
   ]
  },
  {
   "cell_type": "code",
   "execution_count": null,
   "id": "bea142ec",
   "metadata": {},
   "outputs": [],
   "source": []
  }
 ],
 "metadata": {
  "kernelspec": {
   "display_name": "Python 3",
   "language": "python",
   "name": "python3"
  },
  "language_info": {
   "codemirror_mode": {
    "name": "ipython",
    "version": 3
   },
   "file_extension": ".py",
   "mimetype": "text/x-python",
   "name": "python",
   "nbconvert_exporter": "python",
   "pygments_lexer": "ipython3",
   "version": "3.8.8"
  }
 },
 "nbformat": 4,
 "nbformat_minor": 5
}
